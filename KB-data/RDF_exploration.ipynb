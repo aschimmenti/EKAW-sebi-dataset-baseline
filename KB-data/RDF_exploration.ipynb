{
 "cells": [
  {
   "cell_type": "code",
   "execution_count": 51,
   "id": "4619e263",
   "metadata": {},
   "outputs": [],
   "source": [
    "from rdflib import *\n",
    "import numpy as np"
   ]
  },
  {
   "cell_type": "code",
   "execution_count": 15,
   "id": "622644d1",
   "metadata": {},
   "outputs": [
    {
     "data": {
      "text/plain": [
       "<Graph identifier=file:///C:/Users/valep/Downloads/wikipedia/output_graph.trig (<class 'rdflib.graph.Graph'>)>"
      ]
     },
     "execution_count": 15,
     "metadata": {},
     "output_type": "execute_result"
    }
   ],
   "source": [
    "g = ConjunctiveGraph()\n",
    "\n",
    "g.parse('output_graph.trig', format='trig')"
   ]
  },
  {
   "cell_type": "code",
   "execution_count": 6,
   "id": "f6a29eae",
   "metadata": {},
   "outputs": [],
   "source": [
    "from rdflib import *\n",
    "\n",
    "g = ConjunctiveGraph()\n",
    "\n",
    "kb = Namespace(\"http://example.org/data/\")\n",
    "g.bind(\"kb\", kb)\n",
    "\n",
    "sebi = Namespace(\"http://example.org/ontology/\")\n",
    "g.bind(\"sebi\", sebi)\n",
    "\n",
    "hico = Namespace(\"https://w3id.org/hico#\")\n",
    "g.bind(\"hico\", hico)\n",
    "\n",
    "dct = Namespace(\"http://purl.org/dc/terms/\")\n",
    "g.bind(\"dct\", dct)\n",
    "\n",
    "time = Namespace(\"https://www.w3.org/TR/owl-time/\")\n",
    "g.bind = (\"time\", time)\n",
    "\n",
    "prov = Namespace(\"http://www.w3.org/ns/prov#\")\n",
    "g.bind = (\"prov\", prov)\n",
    "\n",
    "wd = Namespace(\"http://www.wikidata.org/entity/\")\n",
    "g.bind = (\"wd\", wd)\n",
    "\n",
    "factual_data = URIRef(\"http://example.org/factual_data\")"
   ]
  },
  {
   "cell_type": "code",
   "execution_count": 74,
   "id": "1591f15f",
   "metadata": {},
   "outputs": [
    {
     "name": "stdout",
     "output_type": "stream",
     "text": [
      "278\n"
     ]
    }
   ],
   "source": [
    "opinions_query = \"\"\"\n",
    "SELECT DISTINCT ?g\n",
    "WHERE {\n",
    "  GRAPH ?g {\n",
    "    VALUES ?opinion { sebi:Authentic sebi:Forgery sebi:Suspicious }\n",
    "    ?doc a ?opinion\n",
    "    }\n",
    "}\n",
    "\"\"\"\n",
    "opinions = g.query(opinions_query)\n",
    "\n",
    "print(len(opinions))"
   ]
  },
  {
   "cell_type": "code",
   "execution_count": 75,
   "id": "2e063b68",
   "metadata": {},
   "outputs": [
    {
     "name": "stdout",
     "output_type": "stream",
     "text": [
      "51\n"
     ]
    }
   ],
   "source": [
    "documents_query = \"\"\"\n",
    "SELECT DISTINCT ?doc\n",
    "WHERE {\n",
    "  VALUES ?opinion { sebi:Authentic sebi:Forgery sebi:Suspicious }\n",
    "\n",
    "  GRAPH ?g {\n",
    "    ?doc a ?opinion\n",
    "    }\n",
    "}\n",
    "\"\"\"\n",
    "documents = g.query(documents_query)\n",
    "\n",
    "print(len(documents))"
   ]
  },
  {
   "cell_type": "code",
   "execution_count": 18,
   "id": "2f0bdcd5",
   "metadata": {},
   "outputs": [
    {
     "name": "stdout",
     "output_type": "stream",
     "text": [
      "0.9 0.1 0.5573476702508937\n",
      "0.8 0.2 0.27240143369175734\n",
      "1.0 0.0 0.8422939068100358\n"
     ]
    }
   ],
   "source": [
    "def content_completeness_queries(uri, predicate, completeness_score):\n",
    "    query = \"\"\"\n",
    "        ASK {\n",
    "            GRAPH <%s> {\n",
    "                ?doc <%s> ?object .\n",
    "            }\n",
    "        }\n",
    "    \"\"\" % (\n",
    "        uri,\n",
    "        predicate,\n",
    "    )\n",
    "\n",
    "    has_element = g.query(query)\n",
    "    if has_element.askAnswer == True:\n",
    "        completeness_score += 1\n",
    "\n",
    "    return completeness_score\n",
    "\n",
    "\n",
    "def context_completeness_queries(uri, predicate, completeness_score, inverse):\n",
    "    if inverse == True:\n",
    "        query = \"\"\"\n",
    "          ASK {\n",
    "              ?object <%s> <%s> .\n",
    "          }\n",
    "    \"\"\" % (\n",
    "            predicate,\n",
    "            uri,\n",
    "        )\n",
    "    else:\n",
    "        query = \"\"\"\n",
    "          ASK {\n",
    "              <%s> <%s> ?object .\n",
    "          }\n",
    "      \"\"\" % (\n",
    "            uri,\n",
    "            predicate,\n",
    "        )\n",
    "    has_element = g.query(query)\n",
    "    if has_element.askAnswer == True:\n",
    "        completeness_score += 1\n",
    "\n",
    "    return completeness_score\n",
    "\n",
    "\n",
    "completeness_metrics, content_completeness_metrics, context_completeness_metrics = (\n",
    "    [],\n",
    "    [],\n",
    "    [],\n",
    ")\n",
    "for row in opinions:\n",
    "    content_completeness_score, context_completeness_score = 0, 0\n",
    "    uri = URIRef(row[0])\n",
    "    content_completeness_score = content_completeness_queries(\n",
    "        uri, RDF.type, content_completeness_score\n",
    "    )\n",
    "    content_completeness_score = content_completeness_queries(\n",
    "        uri, dct.creator, content_completeness_score\n",
    "    )\n",
    "    content_completeness_score = content_completeness_queries(\n",
    "        uri, dct.date, content_completeness_score\n",
    "    )\n",
    "    content_completeness_score = content_completeness_queries(\n",
    "        uri, dct.coverage, content_completeness_score\n",
    "    )\n",
    "    content_completeness_score = content_completeness_queries(\n",
    "        uri, sebi.intention, content_completeness_score\n",
    "    )\n",
    "    context_completeness_score = context_completeness_queries(\n",
    "        uri, sebi.support, context_completeness_score, inverse=True\n",
    "    )\n",
    "    context_completeness_score = context_completeness_queries(\n",
    "        uri, hico.hasInterpretationCriterion, context_completeness_score, inverse=False\n",
    "    )\n",
    "\n",
    "    content_completeness_score_normalized = content_completeness_score / 5.0\n",
    "    context_completeness_score_normalized = context_completeness_score / 2.0\n",
    "\n",
    "    completeness_score = (content_completeness_score_normalized + context_completeness_score_normalized)\n",
    "    completeness_final_score = round(completeness_score / 2, 2)  # Because sum of normalized scores can be at most 2\n",
    "    completeness_metrics.append(completeness_final_score)\n",
    "\n",
    "    content_completeness_score = round(content_completeness_score_normalized, 2)\n",
    "    content_completeness_metrics.append(content_completeness_score)\n",
    "\n",
    "    context_completeness_score = round(context_completeness_score_normalized, 2)\n",
    "    context_completeness_metrics.append(context_completeness_score)\n",
    "\n",
    "completeness_max_value = max(completeness_metrics)\n",
    "completeness_min_value = min(completeness_metrics)\n",
    "completeness_avg_value = sum(completeness_metrics) / len(completeness_metrics)\n",
    "\n",
    "content_completeness_max_value = max(content_completeness_metrics)\n",
    "content_completeness_min_value = min(content_completeness_metrics)\n",
    "content_completeness_avg_value = sum(content_completeness_metrics) / len(content_completeness_metrics)\n",
    "\n",
    "context_completeness_max_value = max(context_completeness_metrics)\n",
    "context_completeness_min_value = min(context_completeness_metrics)\n",
    "context_completeness_avg_value = sum(context_completeness_metrics) / len(context_completeness_metrics)\n",
    "\n",
    "print(completeness_max_value, completeness_min_value, completeness_avg_value)\n",
    "print(content_completeness_max_value,content_completeness_min_value,content_completeness_avg_value,)\n",
    "print(context_completeness_max_value,context_completeness_min_value,context_completeness_avg_value,)"
   ]
  },
  {
   "cell_type": "code",
   "execution_count": 63,
   "id": "71b1071e",
   "metadata": {},
   "outputs": [
    {
     "name": "stdout",
     "output_type": "stream",
     "text": [
      "28 1 5.450980392156863\n"
     ]
    }
   ],
   "source": [
    "most_debated_query = \"\"\"\n",
    "PREFIX hico: <https://w3id.org/hico#>\n",
    "PREFIX sebi: <http://example.org/ontology/>\n",
    "PREFIX dct: <http://purl.org/dc/terms/>\n",
    "PREFIX rdfs: <http://www.w3.org/2000/01/rdf-schema#>\n",
    "prefix kb: <http://example.org/data/>\n",
    "select distinct ?doc (count(distinct ?g) as ?n)\n",
    "\n",
    "where {\n",
    "    VALUES ?opinion { sebi:Authentic sebi:Forgery sebi:Suspicious }\n",
    "    GRAPH ?g {?doc a ?opinion}\n",
    "    }\n",
    "\n",
    "group by ?doc\n",
    "\"\"\"\n",
    "most_debated = g.query(most_debated_query)\n",
    "debatability = []\n",
    "for row in most_debated:\n",
    "    debatability.append(int(row[1]))\n",
    "\n",
    "deb_max_value = max(debatability)\n",
    "deb_min_value = min(debatability)\n",
    "deb_avg_value = sum(debatability) / len(debatability)\n",
    "\n",
    "print(deb_max_value, deb_min_value, deb_avg_value)"
   ]
  },
  {
   "cell_type": "code",
   "execution_count": 78,
   "id": "9a932e04",
   "metadata": {},
   "outputs": [
    {
     "name": "stdout",
     "output_type": "stream",
     "text": [
      "1.0 -1.0 -0.3780693229672821\n",
      "Standard deviation of total counts: 0.5954605932039252\n"
     ]
    }
   ],
   "source": [
    "controversial_counts = []\n",
    "\n",
    "most_controversial_query = \"\"\"\n",
    "PREFIX hico: <https://w3id.org/hico#>\n",
    "PREFIX sebi: <http://example.org/ontology/>\n",
    "PREFIX dct: <http://purl.org/dc/terms/>\n",
    "PREFIX rdfs: <http://www.w3.org/2000/01/rdf-schema#>\n",
    "PREFIX kb: <http://example.org/data/>\n",
    "\n",
    "SELECT ?doc \n",
    "        (SUM(IF(?opinion = sebi:Forgery, 1, 0)) AS ?forgeryCount)\n",
    "       (SUM(IF(?opinion = sebi:Authentic, 1, 0)) AS ?authenticCount)\n",
    "       (SUM(IF(?opinion = sebi:SuspiciousDocument, 1, 0)) AS ?suspiciousCount)\n",
    "       (COUNT(distinct ?g) AS ?totalClaims)\n",
    "    WHERE {\n",
    "    GRAPH ?g {\n",
    "        ?doc a ?opinion .\n",
    "        FILTER (?opinion IN (sebi:Forgery, sebi:Authentic, sebi:SuspiciousDocument))\n",
    "    }\n",
    "}\n",
    "GROUP BY ?doc\n",
    "\"\"\"\n",
    "most_controversial = g.query(most_controversial_query)\n",
    "\n",
    "for row in most_controversial:\n",
    "    document = row[0]\n",
    "    forgery_count = int(row[1])\n",
    "    authentic_count = int(row[2])\n",
    "    suspicious_count = int(row[3])\n",
    "    total_claims = int(row[4])\n",
    "    \n",
    "    forgery_count *= -1\n",
    "    authentic_count *=  1\n",
    "    suspicious_count *= 0 \n",
    "        \n",
    "    total_count = (forgery_count + suspicious_count + authentic_count) / total_claims\n",
    "    controversial_counts.append(total_count)\n",
    "\n",
    "std = np.std(total_counts, ddof=0)  \n",
    "con_max_value = max(controversial_counts)\n",
    "con_min_value = min(controversial_counts)\n",
    "con_avg_value = sum(controversial_counts) / len(controversial_counts)\n",
    "\n",
    "print(con_max_value, con_min_value, con_avg_value)\n",
    "\n",
    "print(f\"Standard deviation of total counts: {std}\")"
   ]
  },
  {
   "cell_type": "code",
   "execution_count": null,
   "id": "e48e8b9d",
   "metadata": {},
   "outputs": [],
   "source": [
    "opinions_query = \"\"\"\n",
    "SELECT DISTINCT ?g\n",
    "WHERE {\n",
    "  GRAPH ?g {\n",
    "    VALUES ?opinion { sebi:Authentic sebi:Forgery sebi:Suspicious }\n",
    "    ?doc a ?opinion\n",
    "    }\n",
    "}\n",
    "\"\"\"\n",
    "opinions = g.query(opinions_query)\n",
    "\n",
    "print(len(opinions))"
   ]
  }
 ],
 "metadata": {
  "kernelspec": {
   "display_name": "Python 3 (ipykernel)",
   "language": "python",
   "name": "python3"
  },
  "language_info": {
   "codemirror_mode": {
    "name": "ipython",
    "version": 3
   },
   "file_extension": ".py",
   "mimetype": "text/x-python",
   "name": "python",
   "nbconvert_exporter": "python",
   "pygments_lexer": "ipython3",
   "version": "3.10.11"
  }
 },
 "nbformat": 4,
 "nbformat_minor": 5
}
